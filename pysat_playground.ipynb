{
 "cells": [
  {
   "cell_type": "code",
   "execution_count": 1,
   "metadata": {},
   "outputs": [
    {
     "name": "stdout",
     "output_type": "stream",
     "text": [
      "True\n",
      "[-1, -2, -3]\n"
     ]
    }
   ],
   "source": [
    "#### the goal of this notebook is simply to play with the pysat API\n",
    "\n",
    "from pysat.solvers import Glucose3\n",
    "g = Glucose3()\n",
    "g.add_clause([-1, 2])\n",
    "g.add_clause([-2, 3])\n",
    "print(g.solve())\n",
    "print(g.get_model())"
   ]
  },
  {
   "cell_type": "code",
   "execution_count": 2,
   "metadata": {},
   "outputs": [
    {
     "data": {
      "text/plain": [
       "2"
      ]
     },
     "execution_count": 2,
     "metadata": {},
     "output_type": "execute_result"
    }
   ],
   "source": [
    "g.nof_clauses()"
   ]
  },
  {
   "cell_type": "code",
   "execution_count": 3,
   "metadata": {},
   "outputs": [
    {
     "name": "stdout",
     "output_type": "stream",
     "text": [
      "False\n"
     ]
    }
   ],
   "source": [
    "from pysat.formula import CNF\n",
    "from pysat.solvers import Solver\n",
    "\n",
    "formula = CNF()\n",
    "formula.append([-1, 2])\n",
    "formula.append([1, -2])\n",
    "formula.append([-1, -2])\n",
    "formula.append([1, 2])\n",
    "\n",
    "with Solver(bootstrap_with=formula.clauses) as l:\n",
    "    print(l.solve())\n",
    "\n",
    "\n"
   ]
  },
  {
   "cell_type": "code",
   "execution_count": 4,
   "metadata": {},
   "outputs": [],
   "source": [
    "from pysat.formula import CNF\n",
    "from pysat.solvers import Solver, Glucose3, Minisat22, Lingeling\n",
    "\n",
    "formula = CNF()\n",
    "formula.append([-1, 2])\n",
    "\n",
    "l = Lingeling(bootstrap_with=formula.clauses)\n",
    "assert(l.nof_clauses() == 1) # OK\n",
    "l.add_clause([1, 2])\n",
    "assert(l.nof_clauses() == 2) # normal\n",
    "\n",
    "l.add_clause([2])\n",
    "### should fail\n",
    "assert(l.nof_clauses() == 2) # 3 expected\n",
    "\n",
    "\n",
    "################# second example\n",
    "\n",
    "formula2 = CNF()\n",
    "formula2.append([-1, 2])\n",
    "\n",
    "l2 = Lingeling(bootstrap_with=formula2.clauses)\n",
    "assert(l2.nof_clauses() == 1) # OK\n",
    "\n",
    "l2.add_clause([2])\n",
    "### should fail\n",
    "assert(l2.nof_clauses() == 1) # 2 expected\n",
    "\n",
    "    "
   ]
  },
  {
   "cell_type": "code",
   "execution_count": 5,
   "metadata": {},
   "outputs": [
    {
     "name": "stdout",
     "output_type": "stream",
     "text": [
      "True\n",
      "False\n",
      "True\n",
      "True\n",
      "False\n"
     ]
    }
   ],
   "source": [
    "from pysat.formula import CNF\n",
    "from pysat.solvers import *\n",
    "\n",
    "formula = CNF()\n",
    "formula.append([-1, 2])\n",
    "\n",
    "with Solver(bootstrap_with=formula.clauses) as l:\n",
    "    print(l.solve(assumptions=[]))\n",
    "    print(l.solve(assumptions=[1, -2]))\n",
    "    print(l.solve(assumptions=[1]))\n",
    "    print(l.solve(assumptions=[1, 2]))\n",
    "    print(l.solve(assumptions=[1, -2]))"
   ]
  },
  {
   "cell_type": "code",
   "execution_count": 6,
   "metadata": {},
   "outputs": [],
   "source": [
    "from pysat.formula import CNF\n",
    "from pysat.solvers import Minisat22, Glucose3\n",
    "\n",
    "cnf = CNF(from_file='examples/out.dimacs')\n",
    "\n",
    "\n",
    "g = Glucose3(bootstrap_with=cnf.clauses)\n",
    "m = Minisat22(bootstrap_with=cnf.clauses)\n",
    "assert(g.nof_clauses() == m.nof_clauses())\n",
    "m.add_clause([1])\n",
    "g.add_clause([1])\n",
    "m.add_clause([-2])\n",
    "g.add_clause([-2])\n",
    "assert(g.nof_clauses() == m.nof_clauses())\n",
    "\n",
    "g = Glucose3(bootstrap_with=cnf.clauses)\n",
    "m = Minisat22(bootstrap_with=cnf.clauses)\n",
    "assert(g.nof_clauses() == m.nof_clauses())\n",
    "g.add_clause([12, 34])\n",
    "m.add_clause([12, 34])\n",
    "m.add_clause([1])\n",
    "g.add_clause([1])\n",
    "assert(g.nof_clauses() == m.nof_clauses())"
   ]
  },
  {
   "cell_type": "code",
   "execution_count": 10,
   "metadata": {},
   "outputs": [],
   "source": [
    "cnf = CNF(from_file='examples/out.dimacs')\n",
    "s = Solver(bootstrap_with=cnf.clauses)\n",
    "s.solve()\n",
    "l1 = s.get_model()"
   ]
  },
  {
   "cell_type": "code",
   "execution_count": 11,
   "metadata": {},
   "outputs": [
    {
     "data": {
      "text/plain": [
       "76662"
      ]
     },
     "execution_count": 11,
     "metadata": {},
     "output_type": "execute_result"
    }
   ],
   "source": [
    "len(l1)"
   ]
  },
  {
   "cell_type": "code",
   "execution_count": 15,
   "metadata": {},
   "outputs": [],
   "source": [
    "l1 = [k for k in l1 if k > 0]"
   ]
  },
  {
   "cell_type": "code",
   "execution_count": 17,
   "metadata": {},
   "outputs": [
    {
     "data": {
      "text/plain": [
       "5041"
      ]
     },
     "execution_count": 17,
     "metadata": {},
     "output_type": "execute_result"
    }
   ],
   "source": [
    "len(l1)"
   ]
  },
  {
   "cell_type": "code",
   "execution_count": null,
   "metadata": {},
   "outputs": [],
   "source": []
  }
 ],
 "metadata": {
  "kernelspec": {
   "display_name": "Python 3",
   "language": "python",
   "name": "python3"
  },
  "language_info": {
   "codemirror_mode": {
    "name": "ipython",
    "version": 3
   },
   "file_extension": ".py",
   "mimetype": "text/x-python",
   "name": "python",
   "nbconvert_exporter": "python",
   "pygments_lexer": "ipython3",
   "version": "3.8.1"
  }
 },
 "nbformat": 4,
 "nbformat_minor": 2
}
