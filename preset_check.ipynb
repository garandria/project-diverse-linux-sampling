{
 "cells": [
  {
   "cell_type": "code",
   "execution_count": 1,
   "metadata": {},
   "outputs": [],
   "source": [
    "import os\n",
    "import pandas as pd"
   ]
  },
  {
   "cell_type": "code",
   "execution_count": 2,
   "metadata": {},
   "outputs": [],
   "source": [
    "def read_imp_val_csv(file):\n",
    "    \"\"\"Read impossible.csv like file\n",
    "    :param: filename\n",
    "    :type: string\n",
    "    :return: dictionary associating param and set of impossible values\n",
    "    :rtype: dict\n",
    "    \"\"\"\n",
    "    df = pd.read_csv(file)\n",
    "    df_dict = df.to_dict()\n",
    "    res = dict()\n",
    "    for k, v in df_dict['option'].items():\n",
    "        imp = map(lambda x: x.replace(\"'\", ''), \n",
    "                  df_dict['impossible_value'][k][1:-1].split()) \n",
    "        res[v] = set(imp)\n",
    "    return res\n",
    "\n",
    "# Build the dict of impossible values\n",
    "impossible_values = read_imp_val_csv('examples/impossible.csv')"
   ]
  },
  {
   "cell_type": "code",
   "execution_count": null,
   "metadata": {},
   "outputs": [],
   "source": [
    "SPE_CONFIG='../linux-4.14.152/spe.config'\n",
    "CONFIG_FILE='../linux-4.14.152/.config'\n",
    "CONFIG_DIR='../linux-4.14.152'\n",
    "\n",
    "test_dict = {'OMAP_SSI': {'m', 'y'},\n",
    " 'FB_MB862XX_LIME': {'y'},\n",
    " 'MTD_PXA2XX': {'m', 'y'}}\n",
    "\n",
    "def check(n):\n",
    "    \"\"\"\n",
    "    Forcing some impossible values then generate a .config\n",
    "    Check n times for each options\"\"\"\n",
    "    for k, v in impossible_values.items():\n",
    "        print('-', k)\n",
    "        for o in v:\n",
    "            print('\\t*', o)\n",
    "            for i in range(n):\n",
    "                cmd_ret = []\n",
    "                line = 'CONFIG_{}={}'.format(k, o)\n",
    "                with open(SPE_CONFIG, 'w') as stream:\n",
    "                    stream.write(line + '\\n')\n",
    "                os.system(\"KCONFIG_ALLCONFIG=spe.config make -C {} randconfig\"\n",
    "                          .format(CONFIG_DIR))\n",
    "                ret = os.popen(\"grep '{}' {}\".format(line, CONFIG_FILE)).read()\n",
    "                if(ret):\n",
    "                    cmd_ret.append(ret)\n",
    "            if cmd_ret:\n",
    "                for r in cmd_ret:\n",
    "                    print('\\t\\t', r)\n",
    "            else:\n",
    "                print('\\t\\t[OK]')"
   ]
  },
  {
   "cell_type": "code",
   "execution_count": null,
   "metadata": {},
   "outputs": [],
   "source": [
    "check(4)"
   ]
  }
 ],
 "metadata": {
  "kernelspec": {
   "display_name": "Python 3",
   "language": "python",
   "name": "python3"
  },
  "language_info": {
   "codemirror_mode": {
    "name": "ipython",
    "version": 3
   },
   "file_extension": ".py",
   "mimetype": "text/x-python",
   "name": "python",
   "nbconvert_exporter": "python",
   "pygments_lexer": "ipython3",
   "version": "3.8.1"
  }
 },
 "nbformat": 4,
 "nbformat_minor": 2
}
