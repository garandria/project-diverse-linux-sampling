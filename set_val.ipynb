{
 "cells": [
  {
   "cell_type": "code",
   "execution_count": 4,
   "metadata": {},
   "outputs": [],
   "source": [
    "from pysat.formula import CNF\n",
    "from pysat.solvers import *\n",
    "import re\n",
    "import pandas as pd\n",
    "import os\n",
    "\n",
    "CONFIG_DIR = \"../linux-4.14.152\"\n",
    "DIMACS_FLA = 'examples/out.dimacs'\n",
    "CONFIG = \"../linux-4.14.152/.config\"\n",
    "CSV = 'examples/alloptions-x86.4.14.152.csv'\n",
    "CONF_FLAG = [\"randconfig\"] # , \"defconfig\", \"allnoconfig\", \"allyesconfig\", \"allmodconfig\", \"alldefconfig\"]"
   ]
  },
  {
   "cell_type": "code",
   "execution_count": 5,
   "metadata": {},
   "outputs": [],
   "source": [
    "variables = {}\n",
    "with open(DIMACS_FLA, 'r') as f:\n",
    "    dimacs_lines = f.readlines()\n",
    "    for line in dimacs_lines:\n",
    "        if line.startswith(\"c\"):\n",
    "            m = re.search('(c) (\\d+) (\\w+)', line)\n",
    "            var_id = int(m.group(2))\n",
    "            var_name = m.group(3)  \n",
    "            variables[var_id] = var_name\n",
    "\n",
    "def search_kconfig_type(option_name, df_options):\n",
    "    ktype = df_options.query(\"option == \" + '\"' + option_name + '\"')['type']\n",
    "    return ktype.values[0]\n",
    "\n",
    "# we are thinking the DIMACS id (number k) corresponding to the \"module\" variable of an option\n",
    "def search_kmodule(option_name):\n",
    "    for k, v in variables.items():\n",
    "        if v == option_name + \"_MODULE\":\n",
    "            return k\n",
    "\n",
    "def get_dict(filename):\n",
    "    \"\"\"Dictionary from a linux config file\"\"\"\n",
    "    res = dict()\n",
    "    with open(CONFIG, 'r') as f:\n",
    "        config_lines = f.readlines()\n",
    "        for line in config_lines:\n",
    "            if not line.startswith(\"#\") and line != '\\n':\n",
    "                m = re.search('CONFIG_(\\w+)=([\\w\"-/]+)', line)\n",
    "                var_name = m.group(1)\n",
    "                var_val = m.group(2)\n",
    "                res[var_name] = var_val\n",
    "    return res\n",
    "\n",
    "def get_var(option):\n",
    "    for k, v in variables.items():\n",
    "        if v == option:\n",
    "            return k\n",
    "        \n",
    "def tristate_repartition(config_dict):\n",
    "    return {'yes' : list(config_dict.values()).count('y'),\n",
    "            'mod' : list(config_dict.values()).count('m')}"
   ]
  },
  {
   "cell_type": "code",
   "execution_count": 6,
   "metadata": {},
   "outputs": [],
   "source": [
    "def get_valuation(config_dict):\n",
    "    assumptions = []\n",
    "    df_options = pd.read_csv(CSV)\n",
    "    for k, v in variables.items():\n",
    "        if v in config_dict:\n",
    "            if (v.endswith(\"_MODULE\") or \"CHOICE_\" in v):  \n",
    "                continue # ignore\n",
    "            kconfig_type = search_kconfig_type(v, df_options)\n",
    "            if (kconfig_type == 'TRISTATE'):\n",
    "                # we have to find the other \"module\" variable that emulates the \"m\" value \n",
    "                kmodule = search_kmodule(v)\n",
    "                # YES\n",
    "                if config_dict[v] == 'y':\n",
    "                    assumptions.extend([k, -kmodule])\n",
    "                # MODULE\n",
    "                elif config_dict[v] == 'm':\n",
    "                    assumptions.extend([-k, kmodule])\n",
    "            elif (kconfig_type == 'BOOL'):\n",
    "                # we have to find the other \"module\" variable that emulates the \"m\" value \n",
    "                kmodule = search_kmodule(v)\n",
    "                assumptions.extend([k])\n",
    "    for f in df_options.option:\n",
    "        # Feature in the CSV and in the DIMACS but not in the config\n",
    "        if f not in config and f in variables.values():\n",
    "            k = get_var(f)\n",
    "            kconfig_type = search_kconfig_type(f, df_options)\n",
    "            if (kconfig_type == 'TRISTATE'):\n",
    "                kmodule = search_kmodule(f)\n",
    "                # NO\n",
    "                assumptions.extend([-k, -kmodule])\n",
    "            elif (kconfig_type == 'BOOL'):\n",
    "                kmodule = search_kmodule(f)\n",
    "                # NO\n",
    "                assumptions.extend([-k])\n",
    "    return assumptions"
   ]
  },
  {
   "cell_type": "code",
   "execution_count": 12,
   "metadata": {},
   "outputs": [
    {
     "name": "stdout",
     "output_type": "stream",
     "text": [
      "SAT\n"
     ]
    }
   ],
   "source": [
    "config = get_dict(CONFIG)\n",
    "fla = CNF(DIMACS_FLA)\n",
    "literals = get_valuation(config)\n",
    "with Solver(bootstrap_with=fla.clauses) as l:\n",
    "    l.set_phases(literals=literals)\n",
    "    if l.solve():\n",
    "        print(\"SAT\")\n",
    "    else:\n",
    "        print(\"UNSAT\")"
   ]
  },
  {
   "cell_type": "code",
   "execution_count": null,
   "metadata": {},
   "outputs": [],
   "source": []
  }
 ],
 "metadata": {
  "kernelspec": {
   "display_name": "Python 3",
   "language": "python",
   "name": "python3"
  },
  "language_info": {
   "codemirror_mode": {
    "name": "ipython",
    "version": 3
   },
   "file_extension": ".py",
   "mimetype": "text/x-python",
   "name": "python",
   "nbconvert_exporter": "python",
   "pygments_lexer": "ipython3",
   "version": "3.8.2"
  }
 },
 "nbformat": 4,
 "nbformat_minor": 2
}
